{
  "nbformat": 4,
  "nbformat_minor": 0,
  "metadata": {
    "colab": {
      "name": "Tarea #2 - Regresión Lineal",
      "provenance": [],
      "collapsed_sections": [],
      "toc_visible": true,
      "authorship_tag": "ABX9TyNP/3gIOR5w3qIV0w9Gof34",
      "include_colab_link": true
    },
    "kernelspec": {
      "name": "python3",
      "display_name": "Python 3"
    }
  },
  "cells": [
    {
      "cell_type": "markdown",
      "metadata": {
        "id": "view-in-github",
        "colab_type": "text"
      },
      "source": [
        "<a href=\"https://colab.research.google.com/github/JuaFeQuimbay/Curso-Mineria-de-Datos/blob/main/Tarea_2_Regresi%C3%B3n_Lineal.ipynb\" target=\"_parent\"><img src=\"https://colab.research.google.com/assets/colab-badge.svg\" alt=\"Open In Colab\"/></a>"
      ]
    },
    {
      "cell_type": "markdown",
      "metadata": {
        "id": "-jAbS2Nspmn3"
      },
      "source": [
        "#REGRESION LINEAL\r\n",
        "\r\n",
        "La [regresión lineal](https://es.wikipedia.org/wiki/Regresi%C3%B3n_lineal) es un método estadístico el cual busca modelar de la mejor manera la relación que existe entre una\r\n",
        "variable dependiente, tambien llamada variable respuesta usualmente se denotada por $Y$ y un conjunto finito de variables independedientes o variables explicativas $X$. \r\n",
        "\r\n",
        "Estos modelos se encuentran atados a algunos supuestos dependiendo de la formulación que tenga este. Algunos modelos pueden estar dados de la siguiente manera:\r\n",
        "\r\n",
        "$$Y_i= \\beta_0 + \\beta_1X_{i1} + \\beta_2X_{i2}+\\dots+\\beta_kX_{ik}+\\epsilon_i$$\r\n",
        "\r\n",
        "Cuando solo hay una variable explicativa es decir cuando $k=1$ se le llama al modelo un **Modelo de Regresión Lineal Simple**. Mientras que en el caso en el cual hay presente más de una variable que explique el comportamiento o la variación de la variable respuesta, es llamado un **Modelo de Regresión Multiple**  \r\n",
        "\r\n",
        "La regresión lineal es una herramienta estadística de uso frecuente pues sus modelos no son muy dificiles de ajustar y además permite hacer predicciones de la variable respuesta. Es por esta razon que la mayoria de los lenguajes de programación como $R$ o $Python$  contienen paquetes que facilitan su uso. \r\n",
        "\r\n"
      ]
    },
    {
      "cell_type": "markdown",
      "metadata": {
        "id": "tgJ2W7HlxSeC"
      },
      "source": [
        "##Historia\r\n",
        "La primera descripción documentada sobre un\r\n",
        "método de regresión lineal fue publicada por Legendré en 1805. En esta publicación aborda el método de [mínimos cuadrados](https://es.wikipedia.org/wiki/M%C3%ADnimos_cuadrados). Despues de algunas decadas Sir Francis Galton, médico y primo de\r\n",
        "Charles Darwin, fue quien introdujo el término regresión,\r\n",
        "en su artículo 'Regression towards mediocrity in hereditary stature”publicado en 1886 en el Journal of the\r\n",
        "Anthropological Institute. En ese trabajo, Galton centró su descripción en la  altura de los descendientes la cual jugo un papel como variable respuesta a partir\r\n",
        "de la altura de sus padres (variable independiente).\r\n",
        "Analizó la altura de 205 padres y 930 hijos adultos a\r\n",
        "partir de sus registros familiares y llegó a la conclusión\r\n",
        "de que aquellos padres muy altos tenían una tendencia a tener\r\n",
        "hijos que heredaban parte de esta altura, pero\r\n",
        "revelaba además una tendencia a regresar a la estatura\r\n",
        "media, así mismo aquellos padres que presentaban una estatura baja tenia hijos con una estatura baja, pero con un ligero incremento en la variable."
      ]
    },
    {
      "cell_type": "markdown",
      "metadata": {
        "id": "b1N3Km0bW5HU"
      },
      "source": [
        "# Ejemplo Regresión Lineal Multiple\r\n",
        "\r\n"
      ]
    },
    {
      "cell_type": "markdown",
      "metadata": {
        "id": "zpZTKdyf0WIC"
      },
      "source": [
        "Mediante la base de datos obtenida en [Kaggle](https://www.kaggle.com/himanshuntt/indian-housing-price) se procede a hacer un modelo de regresion lineal multiple, en el cual se trata de explicar la variabilidad del precio de una casa en la India mediante distintas variables como el area del lote, el número de baños, el area de la vivienda entre algunas otras. \r\n",
        "\r\n",
        "\r\n",
        "\r\n",
        "\r\n",
        "\r\n"
      ]
    },
    {
      "cell_type": "code",
      "metadata": {
        "colab": {
          "base_uri": "https://localhost:8080/",
          "height": 352
        },
        "id": "9AguTDiQz8wl",
        "outputId": "36bb25be-0efb-43ca-cfcd-0ce6d0b6781b"
      },
      "source": [
        "from IPython.display import Image\r\n",
        "Image(width=500,url='https://previews.123rf.com/images/kod22/kod221307/kod22130700069/21376106-casas-coloridas-en-peque%C3%B1a-india-singapur.jpg')"
      ],
      "execution_count": null,
      "outputs": [
        {
          "output_type": "execute_result",
          "data": {
            "text/html": [
              "<img src=\"https://previews.123rf.com/images/kod22/kod221307/kod22130700069/21376106-casas-coloridas-en-peque%C3%B1a-india-singapur.jpg\" width=\"500\"/>"
            ],
            "text/plain": [
              "<IPython.core.display.Image object>"
            ]
          },
          "metadata": {
            "tags": []
          },
          "execution_count": 11
        }
      ]
    },
    {
      "cell_type": "markdown",
      "metadata": {
        "id": "sbt-yRaSmHcH"
      },
      "source": [
        "Como primer acercamiento nos encontrariamos con un modelo de la siguiente manera:\r\n",
        "$$Y_i=\\beta_0+\\beta_1X_1+\\beta_2X_2+\\beta_3X_3+\\beta_4X_4+\\beta_5X_5+\\epsilon_i$$\r\n",
        "\r\n",
        "Donde:\r\n",
        "\r\n",
        "*   $Y_i:$ El precio de la vivienda\r\n",
        "*   $X_1:$ Area de la vivienda\r\n",
        "*   $X_2:$ Número de baños en la vivienda\r\n",
        "*   $X_3:$ Tamaño del lote\r\n",
        "*   $X_4:$ Tiempo de contruida la vivienda\r\n",
        "\r\n",
        "Y se encuentra sujeto a los siguientes supuestos:\r\n",
        "\r\n",
        "*   $E(\\epsilon_i)= 0 $ \r\n",
        "*   $Var(\\epsilon_i)=\\sigma^2$ \r\n",
        "*   $Cov(\\epsilon_i,\\epsilon_j)=0$ \r\n",
        "*   $\\epsilon_i \\sim Normal(0,\\sigma^2I)$ \r\n",
        "*   $X_i$ es independiente de $X_j$ para todo $i \\not= j$"
      ]
    },
    {
      "cell_type": "markdown",
      "metadata": {
        "id": "jDhHdyWpiz20"
      },
      "source": [
        "Mediante el mismo metodo abordado por Legendré se encontraran los respectivos parámetros de la regresión, es decir, mediante el metodo de Minimos Cuadrados se hallarán los valores de $\\beta_i$ para $i=0,1,...,5$. Este metodo consiste en un principio en minimizar la suma de los cuadrados del error\r\n",
        "\\begin{align}\r\n",
        "  l= \\sum e_i^2=e^te=&(Y-X\\beta)^t(Y-X\\beta)\\\\\r\n",
        "  =&Y^tY-\\beta^tX^tY-Y^tX\\beta+\\beta X^tX\\beta\r\n",
        "\\end{align}\r\n",
        "Luego derivando con respecto a $\\beta$ e igualando a cero obtenemos:\r\n",
        "\\begin{align}\r\n",
        "  \\frac{dl}{d\\beta}=&-2X^tY+2X^tX\\beta=0\\\\\r\n",
        "  &=-X^tY+X^tX\\beta=0\r\n",
        "\\end{align}\r\n",
        "Por lo tanto un estimador insesgado para $\\beta$ será:\r\n",
        " $$\\hat{\\beta}=X^tY(X^tX)^{-1}$$\r\n",
        "\r\n"
      ]
    },
    {
      "cell_type": "code",
      "metadata": {
        "id": "j4WpIFQNpjzc"
      },
      "source": [
        "import pandas as pd\r\n",
        "import numpy as np\r\n",
        "import seaborn as sns\r\n",
        "import matplotlib.pyplot as plt\r\n",
        "from sklearn import linear_model\r\n",
        "from sklearn.metrics import mean_squared_error, r2_score"
      ],
      "execution_count": null,
      "outputs": []
    },
    {
      "cell_type": "code",
      "metadata": {
        "id": "K1V0AYQ9qFGd"
      },
      "source": [
        "df1=pd.read_csv('/content/houseprice.csv')\r\n",
        "X = df1.drop([\"Fireplace\",\"Bedrooms\",\"Price\"],axis=1)\r\n",
        "Y = df1.iloc[:, -1]"
      ],
      "execution_count": null,
      "outputs": []
    },
    {
      "cell_type": "code",
      "metadata": {
        "colab": {
          "base_uri": "https://localhost:8080/",
          "height": 284
        },
        "id": "yAR2e-ONszvR",
        "outputId": "5def029a-9b29-4ae8-f579-897005ffa1c9"
      },
      "source": [
        "df1.describe()"
      ],
      "execution_count": null,
      "outputs": [
        {
          "output_type": "execute_result",
          "data": {
            "text/html": [
              "<div>\n",
              "<style scoped>\n",
              "    .dataframe tbody tr th:only-of-type {\n",
              "        vertical-align: middle;\n",
              "    }\n",
              "\n",
              "    .dataframe tbody tr th {\n",
              "        vertical-align: top;\n",
              "    }\n",
              "\n",
              "    .dataframe thead th {\n",
              "        text-align: right;\n",
              "    }\n",
              "</style>\n",
              "<table border=\"1\" class=\"dataframe\">\n",
              "  <thead>\n",
              "    <tr style=\"text-align: right;\">\n",
              "      <th></th>\n",
              "      <th>Living Area</th>\n",
              "      <th>Bathrooms</th>\n",
              "      <th>Bedrooms</th>\n",
              "      <th>Lot Size</th>\n",
              "      <th>Age</th>\n",
              "      <th>Fireplace</th>\n",
              "      <th>Price</th>\n",
              "    </tr>\n",
              "  </thead>\n",
              "  <tbody>\n",
              "    <tr>\n",
              "      <th>count</th>\n",
              "      <td>1047.000000</td>\n",
              "      <td>1047.000000</td>\n",
              "      <td>1047.000000</td>\n",
              "      <td>1047.000000</td>\n",
              "      <td>1047.000000</td>\n",
              "      <td>1047.000000</td>\n",
              "      <td>1047.000000</td>\n",
              "    </tr>\n",
              "    <tr>\n",
              "      <th>mean</th>\n",
              "      <td>1.807303</td>\n",
              "      <td>1.918338</td>\n",
              "      <td>3.183381</td>\n",
              "      <td>0.569580</td>\n",
              "      <td>28.061127</td>\n",
              "      <td>0.593123</td>\n",
              "      <td>16.386213</td>\n",
              "    </tr>\n",
              "    <tr>\n",
              "      <th>std</th>\n",
              "      <td>0.641461</td>\n",
              "      <td>0.641735</td>\n",
              "      <td>0.750265</td>\n",
              "      <td>0.777879</td>\n",
              "      <td>34.900899</td>\n",
              "      <td>0.491486</td>\n",
              "      <td>6.765156</td>\n",
              "    </tr>\n",
              "    <tr>\n",
              "      <th>min</th>\n",
              "      <td>0.672000</td>\n",
              "      <td>1.000000</td>\n",
              "      <td>1.000000</td>\n",
              "      <td>0.000000</td>\n",
              "      <td>0.000000</td>\n",
              "      <td>0.000000</td>\n",
              "      <td>1.685800</td>\n",
              "    </tr>\n",
              "    <tr>\n",
              "      <th>25%</th>\n",
              "      <td>1.336000</td>\n",
              "      <td>1.500000</td>\n",
              "      <td>3.000000</td>\n",
              "      <td>0.210000</td>\n",
              "      <td>6.000000</td>\n",
              "      <td>0.000000</td>\n",
              "      <td>11.201400</td>\n",
              "    </tr>\n",
              "    <tr>\n",
              "      <th>50%</th>\n",
              "      <td>1.672000</td>\n",
              "      <td>2.000000</td>\n",
              "      <td>3.000000</td>\n",
              "      <td>0.390000</td>\n",
              "      <td>18.000000</td>\n",
              "      <td>1.000000</td>\n",
              "      <td>15.191700</td>\n",
              "    </tr>\n",
              "    <tr>\n",
              "      <th>75%</th>\n",
              "      <td>2.206000</td>\n",
              "      <td>2.500000</td>\n",
              "      <td>4.000000</td>\n",
              "      <td>0.600000</td>\n",
              "      <td>34.000000</td>\n",
              "      <td>1.000000</td>\n",
              "      <td>20.523500</td>\n",
              "    </tr>\n",
              "    <tr>\n",
              "      <th>max</th>\n",
              "      <td>4.534000</td>\n",
              "      <td>4.500000</td>\n",
              "      <td>6.000000</td>\n",
              "      <td>9.000000</td>\n",
              "      <td>247.000000</td>\n",
              "      <td>1.000000</td>\n",
              "      <td>44.643600</td>\n",
              "    </tr>\n",
              "  </tbody>\n",
              "</table>\n",
              "</div>"
            ],
            "text/plain": [
              "       Living Area    Bathrooms  ...    Fireplace        Price\n",
              "count  1047.000000  1047.000000  ...  1047.000000  1047.000000\n",
              "mean      1.807303     1.918338  ...     0.593123    16.386213\n",
              "std       0.641461     0.641735  ...     0.491486     6.765156\n",
              "min       0.672000     1.000000  ...     0.000000     1.685800\n",
              "25%       1.336000     1.500000  ...     0.000000    11.201400\n",
              "50%       1.672000     2.000000  ...     1.000000    15.191700\n",
              "75%       2.206000     2.500000  ...     1.000000    20.523500\n",
              "max       4.534000     4.500000  ...     1.000000    44.643600\n",
              "\n",
              "[8 rows x 7 columns]"
            ]
          },
          "metadata": {
            "tags": []
          },
          "execution_count": 17
        }
      ]
    },
    {
      "cell_type": "code",
      "metadata": {
        "colab": {
          "base_uri": "https://localhost:8080/",
          "height": 390
        },
        "id": "uVMnHODYv41v",
        "outputId": "a438317b-000a-4d7a-f0ce-a21101cac458"
      },
      "source": [
        "#GRAFICO DE CORRELACION ENTRE VARIABLES\r\n",
        "corr = np.abs(X.corr())\r\n",
        "fig, ax = plt.subplots(figsize=(6, 6))\r\n",
        "cmap = sns.color_palette(\"magma\")\r\n",
        "sns.heatmap(corr, cmap=cmap, annot=True) #annot=True: Permite ver la correlación númerica entre cada variable en el grafico\r\n",
        "plt.title('Correlación entre variables')\r\n",
        "plt.show()"
      ],
      "execution_count": null,
      "outputs": [
        {
          "output_type": "display_data",
          "data": {
            "image/png": "[encoded data removed]",
            "text/plain": [
              "<Figure size 432x432 with 2 Axes>"
            ]
          },
          "metadata": {
            "tags": [],
            "needs_background": "light"
          }
        }
      ]
    },
    {
      "cell_type": "markdown",
      "metadata": {
        "id": "iNSfzj9k7XPz"
      },
      "source": [
        "Parece no haber problemas de multicolinealidad entre las variables explicativas pues no hay valores demasiado alarmantes "
      ]
    },
    {
      "cell_type": "code",
      "metadata": {
        "id": "Ux0dZjPhxRjl"
      },
      "source": [
        "#Creación de los sets\r\n",
        "from sklearn.model_selection import train_test_split\r\n",
        "x_train,x_test,y_train,y_test= train_test_split(X,Y,test_size=0.2,random_state = 0)"
      ],
      "execution_count": null,
      "outputs": []
    },
    {
      "cell_type": "code",
      "metadata": {
        "colab": {
          "base_uri": "https://localhost:8080/"
        },
        "id": "S_BU9Y-ajAwH",
        "outputId": "706e9fa1-acb8-4ccd-d8cf-60732dd03356"
      },
      "source": [
        "#Entrenamiento del Modelo deRegresion\r\n",
        "from sklearn.linear_model import LinearRegression\r\n",
        "regressor=LinearRegression()\r\n",
        "regressor.fit(x_train,y_train)\r\n"
      ],
      "execution_count": null,
      "outputs": [
        {
          "output_type": "execute_result",
          "data": {
            "text/plain": [
              "LinearRegression(copy_X=True, fit_intercept=True, n_jobs=None, normalize=False)"
            ]
          },
          "metadata": {
            "tags": []
          },
          "execution_count": 29
        }
      ]
    },
    {
      "cell_type": "code",
      "metadata": {
        "colab": {
          "base_uri": "https://localhost:8080/"
        },
        "id": "r-fRhM1LtxBn",
        "outputId": "f3a33fcc-8b1b-41b1-ee30-bcd08b274d68"
      },
      "source": [
        "#Coeficientes de la Regresión\r\n",
        "y_predict=regressor.predict(x_test)\r\n",
        "print(regressor.intercept_)\r\n",
        "print(regressor.coef_)"
      ],
      "execution_count": null,
      "outputs": [
        {
          "output_type": "stream",
          "text": [
            "1.697999747002985\n",
            "[ 6.42601578  1.85819119  0.1168184  -0.02388812]\n"
          ],
          "name": "stdout"
        }
      ]
    },
    {
      "cell_type": "code",
      "metadata": {
        "colab": {
          "base_uri": "https://localhost:8080/",
          "height": 226
        },
        "id": "whxjkuxstyiY",
        "outputId": "22884a9f-1599-4477-996e-8ed4e5c24ee1"
      },
      "source": [
        "#Actual vs prediction plotting\r\n",
        "#Predicción\r\n",
        "df = pd.DataFrame({'Real': y_test, 'Predicción': y_predict.flatten()})\r\n",
        "df1 = df.head(25)\r\n",
        "df1.plot(kind='bar',figsize=(8,3))\r\n",
        "plt.grid(which='major', linestyle='-', linewidth='0.5', color='red')\r\n",
        "plt.grid(which='minor', linestyle=':', linewidth='0.5', color='black')\r\n",
        "plt.show()"
      ],
      "execution_count": null,
      "outputs": [
        {
          "output_type": "display_data",
          "data": {
            "image/png": "[encoded data removed]",
            "text/plain": [
              "<Figure size 576x216 with 1 Axes>"
            ]
          },
          "metadata": {
            "tags": [],
            "needs_background": "light"
          }
        }
      ]
    },
    {
      "cell_type": "code",
      "metadata": {
        "colab": {
          "base_uri": "https://localhost:8080/"
        },
        "id": "xSW-YPCn7cap",
        "outputId": "78419f70-c05b-45fd-eed3-f60ad386f31d"
      },
      "source": [
        "# calculamos el coeficiente de determinación R2\r\n",
        "r2 = regressor.score(X, Y)\r\n",
        "print('Coeficiente de Determinación R2 = ' + str(r2))"
      ],
      "execution_count": null,
      "outputs": [
        {
          "output_type": "stream",
          "text": [
            "Coeficiente de Determinación R2 = 0.6404105361133134\n"
          ],
          "name": "stdout"
        }
      ]
    },
    {
      "cell_type": "markdown",
      "metadata": {
        "id": "7cTnoR388iOe"
      },
      "source": [
        "Finalmente el modelo de regresión ajustado está dado de la siguiente manera:\r\n",
        "\r\n",
        "$$\\hat{Precio_i}=1.7+6.42AreaVivienda+1.85NumeroBaños+0.11AreaVivienda-0,02TiempoConstruida$$"
      ]
    },
    {
      "cell_type": "markdown",
      "metadata": {
        "id": "KZ8W0F6WpoPb"
      },
      "source": [
        "#Conclusiones\r\n",
        "\r\n",
        "\r\n",
        "1.   El modelo explica cerca del 64% de la variablidad del precio de las casas de la muestra en la India\r\n",
        "2.   El modelo logra hacer algunas predicciones bastante cercanas al valor real  que tienen las viviendas\r\n",
        "3. Es posible que se deba incluir alguna otra variable que aumente la variabilidad explicada por el modelo.\r\n",
        "\r\n"
      ]
    },
    {
      "cell_type": "markdown",
      "metadata": {
        "id": "gfzy094WjA-H"
      },
      "source": [
        "#Bibliografia:\r\n",
        "\r\n",
        "\r\n",
        "*   EDA & Prediction Of Indian House Price. (2021). Retrieved 5 March 2021, from https://www.kaggle.com/amruthasagarl/eda-predictionofindianhouseprice\r\n",
        "\r\n",
        "*   Melo Martínez, O., & López Pérez, L. (2020). MODELOS LINEALES NOTAS DE CLASE. Bogotá.\r\n",
        "\r\n",
        "\r\n",
        "*   Retrieved 5 March 2021, from https://www.researchgate.net/profile/Rodolfo-Rivas-Ruiz/publication/259107656_From_clinical_judgment_to_linear_regression_model/links/02e7e52a543fcacfd6000000/From-clinical-judgment-to-linear-regression-model.pdf\r\n",
        "\r\n",
        "* Regresión lineal. (2021). Retrieved 5 March 2021, from https://es.wikipedia.org/wiki/Regresi%C3%B3n_lineal\r\n",
        "\r\n",
        "\r\n",
        "\r\n"
      ]
    }
  ]
}